{
  "nbformat": 4,
  "nbformat_minor": 0,
  "metadata": {
    "colab": {
      "provenance": [],
      "authorship_tag": "ABX9TyN4IBx8ZRcfsaPhTbWKzWeD",
      "include_colab_link": true
    },
    "kernelspec": {
      "name": "python3",
      "display_name": "Python 3"
    },
    "language_info": {
      "name": "python"
    }
  },
  "cells": [
    {
      "cell_type": "markdown",
      "metadata": {
        "id": "view-in-github",
        "colab_type": "text"
      },
      "source": [
        "<a href=\"https://colab.research.google.com/github/iamharshita25/Final_year_project/blob/main/HousePricePredictonModel(HomeHarbour).ipynb\" target=\"_parent\"><img src=\"https://colab.research.google.com/assets/colab-badge.svg\" alt=\"Open In Colab\"/></a>"
      ]
    },
    {
      "cell_type": "code",
      "execution_count": null,
      "metadata": {
        "colab": {
          "base_uri": "https://localhost:8080/"
        },
        "id": "NRP1c51q2hKu",
        "outputId": "872bb0fb-a130-49c1-bfa6-b5a0e8a0537d"
      },
      "outputs": [
        {
          "output_type": "stream",
          "name": "stdout",
          "text": [
            "Mean Absolute Error: 69077.80083447332\n",
            "Mean Squared Error: 18322286010.429497\n",
            "R-squared Score: 0.8699799709873561\n"
          ]
        }
      ],
      "source": [
        "import pandas as pd\n",
        "from sklearn.model_selection import train_test_split\n",
        "from sklearn.preprocessing import StandardScaler\n",
        "from sklearn.ensemble import RandomForestRegressor\n",
        "from sklearn.metrics import mean_absolute_error, mean_squared_error, r2_score\n",
        "\n",
        "# Load the dataset\n",
        "data = pd.read_csv('House Price India.csv')\n",
        "\n",
        "# Drop unnecessary columns (like 'id', 'Date')\n",
        "data = data.drop(columns=['id', 'Date'])\n",
        "\n",
        "# Features and target\n",
        "X = data.drop(columns=['Price'])\n",
        "y = data['Price']\n",
        "\n",
        "# Splitting the data into training and testing sets\n",
        "X_train, X_test, y_train, y_test = train_test_split(X, y, test_size=0.2, random_state=42)\n",
        "\n",
        "# Standardizing the features\n",
        "scaler = StandardScaler()\n",
        "X_train_scaled = scaler.fit_transform(X_train)\n",
        "X_test_scaled = scaler.transform(X_test)\n",
        "\n",
        "# Initialize and train the Random Forest Regressor\n",
        "model = RandomForestRegressor(random_state=42)\n",
        "model.fit(X_train_scaled, y_train)\n",
        "\n",
        "# Predicting on the test set\n",
        "y_pred = model.predict(X_test_scaled)\n",
        "\n",
        "# Model evaluation\n",
        "mae = mean_absolute_error(y_test, y_pred)\n",
        "mse = mean_squared_error(y_test, y_pred)\n",
        "r2 = r2_score(y_test, y_pred)\n",
        "\n",
        "# Output evaluation metrics\n",
        "print(f\"Mean Absolute Error: {mae}\")\n",
        "print(f\"Mean Squared Error: {mse}\")\n",
        "print(f\"R-squared Score: {r2}\")\n"
      ]
    },
    {
      "cell_type": "code",
      "source": [
        "import numpy as np\n",
        "\n",
        "# Example input data (replace these values with the actual new data you have)\n",
        "new_data = np.array([[\n",
        "    3,          # number of bedrooms\n",
        "    2.0,        # number of bathrooms\n",
        "    2000,       # living area (in sqft)\n",
        "    5000,       # lot area (in sqft)\n",
        "    1.0,        # number of floors\n",
        "    0,          # waterfront present (0 or 1)\n",
        "    2,          # number of views\n",
        "    3,          # condition of the house\n",
        "    7,          # grade of the house\n",
        "    1800,       # Area of the house (excluding basement)\n",
        "    200,        # Area of the basement\n",
        "    1995,       # Built Year\n",
        "    0,          # Renovation Year (0 if never renovated)\n",
        "    122030,     # Postal Code\n",
        "    52.75,      # Latitude\n",
        "    -114.50,    # Longitude\n",
        "    2000,       # living_area_renov\n",
        "    5000,       # lot_area_renov\n",
        "    2,          # Number of schools nearby\n",
        "    65          # Distance from the airport (in km)\n",
        "]])\n",
        "\n",
        "# Ensure the new data has the correct number of features\n",
        "if new_data.shape[1] != X_train.shape[1]:\n",
        "    raise ValueError(f\"Expected {X_train.shape[1]} features, but got {new_data.shape[1]}.\")\n",
        "\n",
        "# Standardize the new data\n",
        "new_data_scaled = scaler.transform(new_data)\n",
        "\n",
        "# Predict the price\n",
        "predicted_price = model.predict(new_data_scaled)\n",
        "\n",
        "print(f\"Predicted Price: {predicted_price[0]}\")"
      ],
      "metadata": {
        "colab": {
          "base_uri": "https://localhost:8080/"
        },
        "id": "XupYIQ9w55Ee",
        "outputId": "a917f608-dd85-400d-c646-33518edeab08"
      },
      "execution_count": null,
      "outputs": [
        {
          "output_type": "stream",
          "name": "stdout",
          "text": [
            "Predicted Price: 405343.38\n"
          ]
        },
        {
          "output_type": "stream",
          "name": "stderr",
          "text": [
            "/usr/local/lib/python3.10/dist-packages/sklearn/base.py:465: UserWarning: X does not have valid feature names, but StandardScaler was fitted with feature names\n",
            "  warnings.warn(\n"
          ]
        }
      ]
    },
    {
      "cell_type": "code",
      "source": [
        "import numpy as np\n",
        "\n",
        "# Function to predict house price based on user input\n",
        "def predict_price(user_input):\n",
        "    # Convert user input into a DataFrame\n",
        "    input_df = pd.DataFrame([user_input], columns=X.columns)\n",
        "\n",
        "    # Preprocess the input data (standardize)\n",
        "    input_scaled = scaler.transform(input_df)\n",
        "\n",
        "    # Predict the price\n",
        "    predicted_price = model.predict(input_scaled)\n",
        "\n",
        "    return predicted_price[0]\n",
        "\n",
        "# Function to get user input\n",
        "def get_user_input():\n",
        "    user_input_data = {\n",
        "        'number of bedrooms': int(input(\"Number of bedrooms: \")),\n",
        "        'number of bathrooms': float(input(\"Number of bathrooms: \")),\n",
        "        'living area': int(input(\"Living area (sqft): \")),\n",
        "        'lot area': int(input(\"Lot area (sqft): \")),\n",
        "        'number of floors': float(input(\"Number of floors: \")),\n",
        "        'waterfront present': int(input(\"Waterfront present (1 for yes, 0 for no): \")),\n",
        "        'number of views': int(input(\"Number of views: \")),\n",
        "        'condition of the house': int(input(\"Condition of the house (1-5): \")),\n",
        "        'grade of the house': int(input(\"Grade of the house (1-13): \")),\n",
        "        'Area of the house(excluding basement)': int(input(\"Area of the house excluding basement (sqft): \")),\n",
        "        'Area of the basement': int(input(\"Area of the basement (sqft): \")),\n",
        "        'Built Year': int(input(\"Built Year: \")),\n",
        "        'Renovation Year': int(input(\"Renovation Year (0 if never renovated): \")),\n",
        "        'Postal Code': int(input(\"Postal Code: \")),\n",
        "        'Lattitude': float(input(\"Latitude: \")),\n",
        "        'Longitude': float(input(\"Longitude: \")),\n",
        "        'living_area_renov': int(input(\"Living area after renovation (sqft): \")),\n",
        "        'lot_area_renov': int(input(\"Lot area after renovation (sqft): \")),\n",
        "        'Number of schools nearby': int(input(\"Number of schools nearby: \")),\n",
        "        'Distance from the airport': int(input(\"Distance from the airport (km): \"))\n",
        "    }\n",
        "    return user_input_data\n",
        "\n",
        "# Get user input\n",
        "user_input_data = get_user_input()\n",
        "\n",
        "# Predict the price using the user input\n",
        "predicted_price = predict_price(user_input_data)\n",
        "print(f\"Predicted House Price: {predicted_price}\")"
      ],
      "metadata": {
        "id": "Jn2GFp81858p",
        "colab": {
          "base_uri": "https://localhost:8080/"
        },
        "outputId": "c6739034-4c67-41ab-ad4e-3c30aaee1437"
      },
      "execution_count": null,
      "outputs": [
        {
          "output_type": "stream",
          "name": "stdout",
          "text": [
            "Number of bedrooms: 4\n",
            "Number of bathrooms: 5\n",
            "Living area (sqft): 2000\n",
            "Lot area (sqft): 1500\n",
            "Number of floors: 3\n",
            "Waterfront present (1 for yes, 0 for no): 0\n",
            "Number of views: 0\n",
            "Condition of the house (1-5): 4\n",
            "Grade of the house (1-13): 11\n",
            "Area of the house excluding basement (sqft): 1500\n",
            "Area of the basement (sqft): 0\n",
            "Built Year: 2007\n",
            "Renovation Year (0 if never renovated): 0\n",
            "Postal Code: 390019\n",
            "Latitude: 45\n",
            "Longitude: 114\n",
            "Living area after renovation (sqft): 2000\n",
            "Lot area after renovation (sqft): 1500\n",
            "Number of schools nearby: 3\n",
            "Distance from the airport (km): 20\n",
            "Predicted House Price: 495935.67\n"
          ]
        }
      ]
    }
  ]
}